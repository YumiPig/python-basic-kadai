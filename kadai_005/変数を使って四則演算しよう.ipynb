{
  "nbformat": 4,
  "nbformat_minor": 0,
  "metadata": {
    "colab": {
      "provenance": []
    },
    "kernelspec": {
      "name": "python3",
      "display_name": "Python 3"
    },
    "language_info": {
      "name": "python"
    }
  },
  "cells": [
    {
      "cell_type": "code",
      "execution_count": 1,
      "metadata": {
        "colab": {
          "base_uri": "https://localhost:8080/"
        },
        "id": "33NFYDPLLc1i",
        "outputId": "00d40016-94c2-4887-c0c0-1559a6b8392e"
      },
      "outputs": [
        {
          "output_type": "stream",
          "name": "stdout",
          "text": [
            "75.0 cm2\n"
          ]
        }
      ],
      "source": [
        "# 上辺：10cm\n",
        "# 下辺：20cm\n",
        "# 高さ：5cm\n",
        "# 公式：台形の面積 =（上辺＋下辺）× 高さ ÷ 2\n",
        "zyouhen = 10\n",
        "teihen = 20\n",
        "high = 5\n",
        "menseki = (zyouhen + teihen) * high / 2\n",
        "print(str(menseki), \"cm2\")"
      ]
    }
  ]
}