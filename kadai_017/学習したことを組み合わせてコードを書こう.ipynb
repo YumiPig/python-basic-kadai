{
  "nbformat": 4,
  "nbformat_minor": 0,
  "metadata": {
    "colab": {
      "provenance": []
    },
    "kernelspec": {
      "name": "python3",
      "display_name": "Python 3"
    },
    "language_info": {
      "name": "python"
    }
  },
  "cells": [
    {
      "cell_type": "code",
      "execution_count": 11,
      "metadata": {
        "colab": {
          "base_uri": "https://localhost:8080/"
        },
        "id": "PR816muTerQM",
        "outputId": "819ed3c9-fb11-4789-d512-1d86fc3a350f"
      },
      "outputs": [
        {
          "output_type": "stream",
          "name": "stdout",
          "text": [
            "太郎（28）：大人です\n",
            "高田（17）：大人ではありません\n",
            "石井（10）：大人ではありません\n",
            "大友（29）：大人です\n",
            "大石（59）：大人です\n",
            "池内（28）：大人です\n"
          ]
        }
      ],
      "source": [
        "# 名前(name)と年齢(age)の属性を持つHumanクラスを作成してください。\n",
        "# Humanクラスには、以下の条件で標準出力(print)するcheck_adultメソッドを追加してください。\n",
        "# ageが20以上の場合に大人であること\n",
        "# そうでない場合に大人でないこと\n",
        "# Humanクラスのインスタンスを複数生成してリストに追加し、リストの要素数分だけcheck_adultメソッドを呼び出してください。\n",
        "\n",
        "class Human:\n",
        "  def __init__(self):\n",
        "    self.name = \"\"\n",
        "\n",
        "  def set_name(self, name):\n",
        "    self.name = name\n",
        "\n",
        "  def set_age(self, age):\n",
        "    self.age = age\n",
        "\n",
        "  def check_adult(self, name, age):\n",
        "    if age >= 20:\n",
        "      print(f\"{name}（{age}）：大人です\")\n",
        "    else:\n",
        "      print(f\"{name}（{age}）：大人ではありません\")\n",
        "\n",
        "human_deta = {\"太郎\": 28, \"高田\": 17, \"石井\": 10, \"大友\": 29, \"大石\": 59, \"池内\": 28}\n",
        "\n",
        "human = Human()\n",
        "\n",
        "for key, value in human_deta.items():\n",
        "  human.set_name(key)\n",
        "  human.set_age(value)\n",
        "  human.check_adult(human.name, human.age)"
      ]
    }
  ]
}