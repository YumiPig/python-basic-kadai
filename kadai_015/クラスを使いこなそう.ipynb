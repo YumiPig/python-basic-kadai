{
  "nbformat": 4,
  "nbformat_minor": 0,
  "metadata": {
    "colab": {
      "provenance": []
    },
    "kernelspec": {
      "name": "python3",
      "display_name": "Python 3"
    },
    "language_info": {
      "name": "python"
    }
  },
  "cells": [
    {
      "cell_type": "code",
      "execution_count": 30,
      "metadata": {
        "colab": {
          "base_uri": "https://localhost:8080/"
        },
        "id": "9sBVnE36TQzD",
        "outputId": "03ebd196-9962-4b71-ed91-8479f0b10375"
      },
      "outputs": [
        {
          "output_type": "stream",
          "name": "stdout",
          "text": [
            "名前：池内\n",
            "年齢：28\n"
          ]
        }
      ],
      "source": [
        "# 名前(name)と年齢(age)の属性を持つHumanクラスを作成してください。\n",
        "# nameとageを標準出力(print)するメソッド(printinfo)を追加してください。\n",
        "\n",
        "# Humanクラスのインスタンスは、変数に代入してプログラム内で使用してください。\n",
        "\n",
        "class Human:\n",
        "  def __init__(self):\n",
        "    self.name = \"\"\n",
        "\n",
        "  def set_name(self, name):\n",
        "    self.name = name\n",
        "\n",
        "  def set_age(self, age):\n",
        "    self.age = age\n",
        "\n",
        "  def print_info(self, name, age):\n",
        "    print(f\"名前：{self.name}\")\n",
        "    print(f\"年齢：{self.age}\")\n",
        "\n",
        "human = Human()\n",
        "human.set_name(\"池内\")\n",
        "human.set_age(28)\n",
        "human.print_info(human.name, human.age)"
      ]
    }
  ]
}