{
  "nbformat": 4,
  "nbformat_minor": 0,
  "metadata": {
    "colab": {
      "provenance": []
    },
    "kernelspec": {
      "name": "python3",
      "display_name": "Python 3"
    },
    "language_info": {
      "name": "python"
    }
  },
  "cells": [
    {
      "cell_type": "code",
      "execution_count": 4,
      "metadata": {
        "colab": {
          "base_uri": "https://localhost:8080/"
        },
        "id": "YXtrx-pq0YWZ",
        "outputId": "820334e7-16a9-4d3e-aa24-91b4f03190c5"
      },
      "outputs": [
        {
          "output_type": "stream",
          "name": "stdout",
          "text": [
            "1100.0\n"
          ]
        }
      ],
      "source": [
        "# 商品を購入して、消費税を加えた計算結果を返す関数を記述してください。\n",
        "# 第1引数に商品の金額、第2引数に消費税（10%）を設定できるようにしてください。\n",
        "\n",
        "def kakaku(price: int, fee: int):\n",
        "  total_price = price * (1 + fee)\n",
        "  return total_price\n",
        "\n",
        "print(kakaku(1000, 0.1))"
      ]
    }
  ]
}