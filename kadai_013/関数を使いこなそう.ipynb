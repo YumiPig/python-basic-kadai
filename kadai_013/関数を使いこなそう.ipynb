{
  "nbformat": 4,
  "nbformat_minor": 0,
  "metadata": {
    "colab": {
      "provenance": []
    },
    "kernelspec": {
      "name": "python3",
      "display_name": "Python 3"
    },
    "language_info": {
      "name": "python"
    }
  },
  "cells": [
    {
      "cell_type": "code",
      "execution_count": 9,
      "metadata": {
        "colab": {
          "base_uri": "https://localhost:8080/"
        },
        "id": "YXtrx-pq0YWZ",
        "outputId": "387acdd2-bd07-4ad5-ab3a-05c3e057cae9"
      },
      "outputs": [
        {
          "output_type": "execute_result",
          "data": {
            "text/plain": [
              "1650.0000000000002"
            ]
          },
          "metadata": {},
          "execution_count": 9
        }
      ],
      "source": [
        "# 商品を購入して、消費税を加えた計算結果を返す関数を記述してください。\n",
        "# 第1引数に商品の金額、第2引数に消費税（10%）を設定できるようにしてください。\n",
        "def kingaku(price: int, fee: int):\n",
        "  total_price = price * (1 + fee / 100)\n",
        "  return total_price\n",
        "\n",
        "kingaku(1500, 10)\n"
      ]
    }
  ]
}