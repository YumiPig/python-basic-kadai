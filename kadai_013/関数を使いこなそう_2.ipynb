{
  "nbformat": 4,
  "nbformat_minor": 0,
  "metadata": {
    "colab": {
      "provenance": []
    },
    "kernelspec": {
      "name": "python3",
      "display_name": "Python 3"
    },
    "language_info": {
      "name": "python"
    }
  },
  "cells": [
    {
      "cell_type": "code",
      "execution_count": 22,
      "metadata": {
        "colab": {
          "base_uri": "https://localhost:8080/"
        },
        "id": "YXtrx-pq0YWZ",
        "outputId": "15a7a26b-99a3-4c0e-fff6-6b201f6a2ebf"
      },
      "outputs": [
        {
          "output_type": "stream",
          "name": "stdout",
          "text": [
            "11000.0\n",
            "1650.0000000000002\n"
          ]
        }
      ],
      "source": [
        "# 商品を購入して、消費税を加えた計算結果を返す関数を記述してください。\n",
        "# 第1引数に商品の金額、第2引数に消費税（10%）を設定できるようにしてください。\n",
        "\n",
        "def daikin(nedan: int):\n",
        "  kakaku = nedan * 1.1\n",
        "  return kakaku\n",
        "\n",
        "print(daikin(10000))\n",
        "\n",
        "def kingaku(price: int, fee: int):\n",
        "  total_price = price * (1 + fee / 100)\n",
        "  return total_price\n",
        "\n",
        "print(kingaku(1500, 10))\n"
      ]
    }
  ]
}