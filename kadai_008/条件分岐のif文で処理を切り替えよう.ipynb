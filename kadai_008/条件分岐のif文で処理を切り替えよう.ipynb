{
  "nbformat": 4,
  "nbformat_minor": 0,
  "metadata": {
    "colab": {
      "provenance": []
    },
    "kernelspec": {
      "name": "python3",
      "display_name": "Python 3"
    },
    "language_info": {
      "name": "python"
    }
  },
  "cells": [
    {
      "cell_type": "code",
      "execution_count": 22,
      "metadata": {
        "colab": {
          "base_uri": "https://localhost:8080/"
        },
        "id": "_oWj69G8hJO-",
        "outputId": "d9594f08-a2a4-4582-b427-147d134b6e67"
      },
      "outputs": [
        {
          "output_type": "stream",
          "name": "stdout",
          "text": [
            "95\n",
            "Buzz\n"
          ]
        }
      ],
      "source": [
        "# 変数varが3の倍数の場合はFizz\n",
        "# 5の倍数の場合はBuzz\n",
        "# 3と5の倍数の場合はFizzBuzz\n",
        "# それ以外の場合は変数varを出力する条件式を記述してください。\n",
        "# ただし、変数varは正の整数とします。\n",
        "import random\n",
        "var = random.randint(1, 100)\n",
        "print(var)\n",
        "if var % 15 == 0:\n",
        "  print(\"FizzBuzz\")\n",
        "elif var % 5 == 0:\n",
        "  print(\"Buzz\")\n",
        "elif var % 3 == 0:\n",
        "  print(\"Fizz\")\n",
        "else:\n",
        "  print(var)"
      ]
    }
  ]
}